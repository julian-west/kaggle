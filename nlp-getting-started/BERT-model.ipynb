{
  "nbformat": 4,
  "nbformat_minor": 0,
  "metadata": {
    "colab": {
      "name": "BERT.ipynb",
      "provenance": [],
      "collapsed_sections": [],
      "toc_visible": true,
      "authorship_tag": "ABX9TyOrOvYtNDrcEA4W2ELSz7rw",
      "include_colab_link": true
    },
    "kernelspec": {
      "name": "python3",
      "display_name": "Python 3"
    },
    "accelerator": "GPU"
  },
  "cells": [
    {
      "cell_type": "markdown",
      "metadata": {
        "id": "view-in-github",
        "colab_type": "text"
      },
      "source": [
        "<a href=\"https://colab.research.google.com/github/julian-west/kaggle/blob/master/nlp-getting-started/BERT-model.ipynb\" target=\"_parent\"><img src=\"https://colab.research.google.com/assets/colab-badge.svg\" alt=\"Open In Colab\"/></a>"
      ]
    },
    {
      "cell_type": "markdown",
      "metadata": {
        "id": "AAv3DlJTPVDo",
        "colab_type": "text"
      },
      "source": [
        "# BERT Classification Model\n",
        "\n",
        "Simple BERT model for the [Kaggle Real or Not? NLP with Disaster Tweets](https://www.kaggle.com/c/nlp-getting-started/overview) competition.\n",
        "\n",
        "This notebook achieves a score of about 0.81."
      ]
    },
    {
      "cell_type": "markdown",
      "metadata": {
        "id": "gRlCTxzL7-a3",
        "colab_type": "text"
      },
      "source": [
        "# Standard Imports"
      ]
    },
    {
      "cell_type": "code",
      "metadata": {
        "id": "BIsFqa028Gs4",
        "colab_type": "code",
        "colab": {}
      },
      "source": [
        "import re\n",
        "import time\n",
        "import datetime\n",
        "\n",
        "import pandas as pd\n",
        "import numpy as np\n",
        "\n",
        "import matplotlib.pyplot as plt"
      ],
      "execution_count": 0,
      "outputs": []
    },
    {
      "cell_type": "markdown",
      "metadata": {
        "id": "kR8gF03P7VKy",
        "colab_type": "text"
      },
      "source": [
        "# Load Datafiles"
      ]
    },
    {
      "cell_type": "code",
      "metadata": {
        "id": "W2EsA1ja7Yqb",
        "colab_type": "code",
        "colab": {
          "base_uri": "https://localhost:8080/",
          "height": 54
        },
        "outputId": "519a4eda-763b-4f28-f696-f988566f18f2"
      },
      "source": [
        "from google.colab import drive\n",
        "drive.mount('/content/drive')\n"
      ],
      "execution_count": 2,
      "outputs": [
        {
          "output_type": "stream",
          "text": [
            "Drive already mounted at /content/drive; to attempt to forcibly remount, call drive.mount(\"/content/drive\", force_remount=True).\n"
          ],
          "name": "stdout"
        }
      ]
    },
    {
      "cell_type": "code",
      "metadata": {
        "id": "fsQNO6g177_l",
        "colab_type": "code",
        "colab": {}
      },
      "source": [
        "DATA_LOCATION = \"/content/drive/My Drive/kaggle/nlp-getting-started/\"\n",
        "\n",
        "train_df = pd.read_csv(DATA_LOCATION + \"train.csv\")\n",
        "test_df = pd.read_csv(DATA_LOCATION + \"test.csv\")"
      ],
      "execution_count": 0,
      "outputs": []
    },
    {
      "cell_type": "code",
      "metadata": {
        "id": "r0WvS7528pbr",
        "colab_type": "code",
        "colab": {
          "base_uri": "https://localhost:8080/",
          "height": 391
        },
        "outputId": "4a997f43-5129-489e-da1c-6b7fdac0a956"
      },
      "source": [
        "display(train_df.head())\n",
        "display(test_df.head())"
      ],
      "execution_count": 4,
      "outputs": [
        {
          "output_type": "display_data",
          "data": {
            "text/html": [
              "<div>\n",
              "<style scoped>\n",
              "    .dataframe tbody tr th:only-of-type {\n",
              "        vertical-align: middle;\n",
              "    }\n",
              "\n",
              "    .dataframe tbody tr th {\n",
              "        vertical-align: top;\n",
              "    }\n",
              "\n",
              "    .dataframe thead th {\n",
              "        text-align: right;\n",
              "    }\n",
              "</style>\n",
              "<table border=\"1\" class=\"dataframe\">\n",
              "  <thead>\n",
              "    <tr style=\"text-align: right;\">\n",
              "      <th></th>\n",
              "      <th>id</th>\n",
              "      <th>keyword</th>\n",
              "      <th>location</th>\n",
              "      <th>text</th>\n",
              "      <th>target</th>\n",
              "    </tr>\n",
              "  </thead>\n",
              "  <tbody>\n",
              "    <tr>\n",
              "      <th>0</th>\n",
              "      <td>1</td>\n",
              "      <td>NaN</td>\n",
              "      <td>NaN</td>\n",
              "      <td>Our Deeds are the Reason of this #earthquake M...</td>\n",
              "      <td>1</td>\n",
              "    </tr>\n",
              "    <tr>\n",
              "      <th>1</th>\n",
              "      <td>4</td>\n",
              "      <td>NaN</td>\n",
              "      <td>NaN</td>\n",
              "      <td>Forest fire near La Ronge Sask. Canada</td>\n",
              "      <td>1</td>\n",
              "    </tr>\n",
              "    <tr>\n",
              "      <th>2</th>\n",
              "      <td>5</td>\n",
              "      <td>NaN</td>\n",
              "      <td>NaN</td>\n",
              "      <td>All residents asked to 'shelter in place' are ...</td>\n",
              "      <td>1</td>\n",
              "    </tr>\n",
              "    <tr>\n",
              "      <th>3</th>\n",
              "      <td>6</td>\n",
              "      <td>NaN</td>\n",
              "      <td>NaN</td>\n",
              "      <td>13,000 people receive #wildfires evacuation or...</td>\n",
              "      <td>1</td>\n",
              "    </tr>\n",
              "    <tr>\n",
              "      <th>4</th>\n",
              "      <td>7</td>\n",
              "      <td>NaN</td>\n",
              "      <td>NaN</td>\n",
              "      <td>Just got sent this photo from Ruby #Alaska as ...</td>\n",
              "      <td>1</td>\n",
              "    </tr>\n",
              "  </tbody>\n",
              "</table>\n",
              "</div>"
            ],
            "text/plain": [
              "   id keyword  ...                                               text target\n",
              "0   1     NaN  ...  Our Deeds are the Reason of this #earthquake M...      1\n",
              "1   4     NaN  ...             Forest fire near La Ronge Sask. Canada      1\n",
              "2   5     NaN  ...  All residents asked to 'shelter in place' are ...      1\n",
              "3   6     NaN  ...  13,000 people receive #wildfires evacuation or...      1\n",
              "4   7     NaN  ...  Just got sent this photo from Ruby #Alaska as ...      1\n",
              "\n",
              "[5 rows x 5 columns]"
            ]
          },
          "metadata": {
            "tags": []
          }
        },
        {
          "output_type": "display_data",
          "data": {
            "text/html": [
              "<div>\n",
              "<style scoped>\n",
              "    .dataframe tbody tr th:only-of-type {\n",
              "        vertical-align: middle;\n",
              "    }\n",
              "\n",
              "    .dataframe tbody tr th {\n",
              "        vertical-align: top;\n",
              "    }\n",
              "\n",
              "    .dataframe thead th {\n",
              "        text-align: right;\n",
              "    }\n",
              "</style>\n",
              "<table border=\"1\" class=\"dataframe\">\n",
              "  <thead>\n",
              "    <tr style=\"text-align: right;\">\n",
              "      <th></th>\n",
              "      <th>id</th>\n",
              "      <th>keyword</th>\n",
              "      <th>location</th>\n",
              "      <th>text</th>\n",
              "    </tr>\n",
              "  </thead>\n",
              "  <tbody>\n",
              "    <tr>\n",
              "      <th>0</th>\n",
              "      <td>0</td>\n",
              "      <td>NaN</td>\n",
              "      <td>NaN</td>\n",
              "      <td>Just happened a terrible car crash</td>\n",
              "    </tr>\n",
              "    <tr>\n",
              "      <th>1</th>\n",
              "      <td>2</td>\n",
              "      <td>NaN</td>\n",
              "      <td>NaN</td>\n",
              "      <td>Heard about #earthquake is different cities, s...</td>\n",
              "    </tr>\n",
              "    <tr>\n",
              "      <th>2</th>\n",
              "      <td>3</td>\n",
              "      <td>NaN</td>\n",
              "      <td>NaN</td>\n",
              "      <td>there is a forest fire at spot pond, geese are...</td>\n",
              "    </tr>\n",
              "    <tr>\n",
              "      <th>3</th>\n",
              "      <td>9</td>\n",
              "      <td>NaN</td>\n",
              "      <td>NaN</td>\n",
              "      <td>Apocalypse lighting. #Spokane #wildfires</td>\n",
              "    </tr>\n",
              "    <tr>\n",
              "      <th>4</th>\n",
              "      <td>11</td>\n",
              "      <td>NaN</td>\n",
              "      <td>NaN</td>\n",
              "      <td>Typhoon Soudelor kills 28 in China and Taiwan</td>\n",
              "    </tr>\n",
              "  </tbody>\n",
              "</table>\n",
              "</div>"
            ],
            "text/plain": [
              "   id keyword location                                               text\n",
              "0   0     NaN      NaN                 Just happened a terrible car crash\n",
              "1   2     NaN      NaN  Heard about #earthquake is different cities, s...\n",
              "2   3     NaN      NaN  there is a forest fire at spot pond, geese are...\n",
              "3   9     NaN      NaN           Apocalypse lighting. #Spokane #wildfires\n",
              "4  11     NaN      NaN      Typhoon Soudelor kills 28 in China and Taiwan"
            ]
          },
          "metadata": {
            "tags": []
          }
        }
      ]
    },
    {
      "cell_type": "markdown",
      "metadata": {
        "id": "QpnQo6RJ7ZDq",
        "colab_type": "text"
      },
      "source": [
        "# Modelling"
      ]
    },
    {
      "cell_type": "markdown",
      "metadata": {
        "id": "UYEKulTK82NF",
        "colab_type": "text"
      },
      "source": [
        "## PyTorch Imports"
      ]
    },
    {
      "cell_type": "code",
      "metadata": {
        "id": "0fK1-dl8PgLd",
        "colab_type": "code",
        "outputId": "8bbe5602-b693-483f-b0f0-8fa0d7081c1b",
        "colab": {
          "base_uri": "https://localhost:8080/",
          "height": 411
        }
      },
      "source": [
        "!pip install transformers"
      ],
      "execution_count": 5,
      "outputs": [
        {
          "output_type": "stream",
          "text": [
            "Requirement already satisfied: transformers in /usr/local/lib/python3.6/dist-packages (2.4.1)\n",
            "Requirement already satisfied: regex!=2019.12.17 in /usr/local/lib/python3.6/dist-packages (from transformers) (2019.12.20)\n",
            "Requirement already satisfied: tokenizers==0.0.11 in /usr/local/lib/python3.6/dist-packages (from transformers) (0.0.11)\n",
            "Requirement already satisfied: numpy in /usr/local/lib/python3.6/dist-packages (from transformers) (1.17.5)\n",
            "Requirement already satisfied: filelock in /usr/local/lib/python3.6/dist-packages (from transformers) (3.0.12)\n",
            "Requirement already satisfied: boto3 in /usr/local/lib/python3.6/dist-packages (from transformers) (1.11.10)\n",
            "Requirement already satisfied: requests in /usr/local/lib/python3.6/dist-packages (from transformers) (2.21.0)\n",
            "Requirement already satisfied: tqdm>=4.27 in /usr/local/lib/python3.6/dist-packages (from transformers) (4.28.1)\n",
            "Requirement already satisfied: sentencepiece in /usr/local/lib/python3.6/dist-packages (from transformers) (0.1.85)\n",
            "Requirement already satisfied: sacremoses in /usr/local/lib/python3.6/dist-packages (from transformers) (0.0.38)\n",
            "Requirement already satisfied: botocore<1.15.0,>=1.14.10 in /usr/local/lib/python3.6/dist-packages (from boto3->transformers) (1.14.10)\n",
            "Requirement already satisfied: s3transfer<0.4.0,>=0.3.0 in /usr/local/lib/python3.6/dist-packages (from boto3->transformers) (0.3.2)\n",
            "Requirement already satisfied: jmespath<1.0.0,>=0.7.1 in /usr/local/lib/python3.6/dist-packages (from boto3->transformers) (0.9.4)\n",
            "Requirement already satisfied: urllib3<1.25,>=1.21.1 in /usr/local/lib/python3.6/dist-packages (from requests->transformers) (1.24.3)\n",
            "Requirement already satisfied: idna<2.9,>=2.5 in /usr/local/lib/python3.6/dist-packages (from requests->transformers) (2.8)\n",
            "Requirement already satisfied: certifi>=2017.4.17 in /usr/local/lib/python3.6/dist-packages (from requests->transformers) (2019.11.28)\n",
            "Requirement already satisfied: chardet<3.1.0,>=3.0.2 in /usr/local/lib/python3.6/dist-packages (from requests->transformers) (3.0.4)\n",
            "Requirement already satisfied: click in /usr/local/lib/python3.6/dist-packages (from sacremoses->transformers) (7.0)\n",
            "Requirement already satisfied: six in /usr/local/lib/python3.6/dist-packages (from sacremoses->transformers) (1.12.0)\n",
            "Requirement already satisfied: joblib in /usr/local/lib/python3.6/dist-packages (from sacremoses->transformers) (0.14.1)\n",
            "Requirement already satisfied: python-dateutil<3.0.0,>=2.1 in /usr/local/lib/python3.6/dist-packages (from botocore<1.15.0,>=1.14.10->boto3->transformers) (2.6.1)\n",
            "Requirement already satisfied: docutils<0.16,>=0.10 in /usr/local/lib/python3.6/dist-packages (from botocore<1.15.0,>=1.14.10->boto3->transformers) (0.15.2)\n"
          ],
          "name": "stdout"
        }
      ]
    },
    {
      "cell_type": "code",
      "metadata": {
        "id": "PudLjO2JPihe",
        "colab_type": "code",
        "outputId": "c1dbad6a-3a20-4087-8e34-5d53f813e6c1",
        "colab": {
          "base_uri": "https://localhost:8080/",
          "height": 80
        }
      },
      "source": [
        "import torch\n",
        "from torch import nn\n",
        "from torch.utils.data import Dataset, DataLoader, RandomSampler, TensorDataset\n",
        "\n",
        "from transformers import BertModel, BertTokenizer, BertForSequenceClassification \n",
        "from transformers import BertForSequenceClassification, AdamW, BertConfig\n",
        "from transformers import get_linear_schedule_with_warmup\n",
        "\n",
        "from keras.preprocessing.sequence import pad_sequences\n",
        "\n",
        "from sklearn.model_selection import train_test_split"
      ],
      "execution_count": 6,
      "outputs": [
        {
          "output_type": "display_data",
          "data": {
            "text/html": [
              "<p style=\"color: red;\">\n",
              "The default version of TensorFlow in Colab will soon switch to TensorFlow 2.x.<br>\n",
              "We recommend you <a href=\"https://www.tensorflow.org/guide/migrate\" target=\"_blank\">upgrade</a> now \n",
              "or ensure your notebook will continue to use TensorFlow 1.x via the <code>%tensorflow_version 1.x</code> magic:\n",
              "<a href=\"https://colab.research.google.com/notebooks/tensorflow_version.ipynb\" target=\"_blank\">more info</a>.</p>\n"
            ],
            "text/plain": [
              "<IPython.core.display.HTML object>"
            ]
          },
          "metadata": {
            "tags": []
          }
        },
        {
          "output_type": "stream",
          "text": [
            "Using TensorFlow backend.\n"
          ],
          "name": "stderr"
        }
      ]
    },
    {
      "cell_type": "markdown",
      "metadata": {
        "id": "KlYIVaWg8-QG",
        "colab_type": "text"
      },
      "source": [
        "## LoadDataset Class\n",
        "\n",
        "Class to load and preprocess the training data."
      ]
    },
    {
      "cell_type": "code",
      "metadata": {
        "id": "zimuU7brP3ur",
        "colab_type": "code",
        "colab": {}
      },
      "source": [
        "class TweetProcessor:\n",
        "\n",
        "  def __init__(self, tweets, labels=[], maxlen=64):\n",
        "    self.tweets = tweets\n",
        "    self.tokenizer = BertTokenizer.from_pretrained('bert-base-uncased')\n",
        "    self.maxlen = maxlen\n",
        "    self.labels = labels\n",
        "\n",
        "\n",
        "  def process_text(self):\n",
        "    \"\"\"processes tweets and convert to tensors for BERT model\"\"\"\n",
        "  \n",
        "    #remove html\n",
        "    self.tweets = self.tweets.apply(\n",
        "        lambda x: re.sub(r\"https?:\\/\\/t.co\\/[A-Za-z0-9]+\",\"\",x))\n",
        "    \n",
        "    #convert to BERT encoded IDs\n",
        "    input_ids = [self.tokenizer.encode(\n",
        "        t, add_special_tokens = True) for t in self.tweets]\n",
        "\n",
        "    #padd sequences\n",
        "    input_ids = pad_sequences(input_ids, maxlen=self.maxlen,\n",
        "                              dtype='long', value=0, \n",
        "                              truncating='post', padding='post'\n",
        "                              )\n",
        "\n",
        "    #create masks for each tweet (1 if token >0 else 0)\n",
        "    att_masks = [[int(token_id > 0) for token_id in input_id\n",
        "                       ] for input_id in input_ids]\n",
        "\n",
        "    input_ids_tensors = torch.tensor(input_ids)\n",
        "    att_masks_tensors = torch.tensor(att_masks)\n",
        "\n",
        "\n",
        "    if len(self.labels) == len(self.tweets):\n",
        "      labels_tensors = torch.tensor(self.labels.ravel())\n",
        "      return input_ids_tensors, att_masks_tensors, labels_tensors\n",
        "    else:\n",
        "      return input_ids_tensors, att_masks_tensors\n",
        "\n",
        "\n",
        "\n"
      ],
      "execution_count": 0,
      "outputs": []
    },
    {
      "cell_type": "markdown",
      "metadata": {
        "id": "8oWrXoc7uDAz",
        "colab_type": "text"
      },
      "source": [
        "## Training validation split\n",
        "\n",
        "Split training data into train and validation sets."
      ]
    },
    {
      "cell_type": "code",
      "metadata": {
        "id": "00yK0c5gt6C8",
        "colab_type": "code",
        "colab": {}
      },
      "source": [
        "SEED = 42\n",
        "TEST_SIZE = 0.1\n",
        "BATCH_SIZE = 32\n",
        "\n",
        "train_data, val_data = train_test_split(\n",
        "    train_df,\n",
        "    random_state = SEED,\n",
        "    test_size = 0.1,\n",
        "    shuffle=True\n",
        ")\n",
        "\n",
        "train_inputs, train_masks, train_labels = TweetProcessor(\n",
        "    train_data['text'], \n",
        "    labels=train_data['target']).process_text()\n",
        "\n",
        "val_inputs, val_masks, val_labels = TweetProcessor(\n",
        "    val_data['text'], \n",
        "    labels=val_data['target']).process_text()"
      ],
      "execution_count": 0,
      "outputs": []
    },
    {
      "cell_type": "code",
      "metadata": {
        "id": "JqdH-5XiwLuj",
        "colab_type": "code",
        "colab": {}
      },
      "source": [
        "train_data = TensorDataset(train_inputs, train_masks, train_labels)\n",
        "val_data = TensorDataset(val_inputs, val_masks, val_labels)\n",
        "\n",
        "train_sampler = RandomSampler(train_data)\n",
        "val_sampler = RandomSampler(val_data)\n",
        "\n",
        "train_dataloader = DataLoader(train_data, batch_size=BATCH_SIZE, \n",
        "                              sampler = train_sampler)\n",
        "val_dataloader = DataLoader(val_data, batch_size=BATCH_SIZE,\n",
        "                            sampler=val_sampler)"
      ],
      "execution_count": 0,
      "outputs": []
    },
    {
      "cell_type": "markdown",
      "metadata": {
        "id": "tBfV2N5gqsyZ",
        "colab_type": "text"
      },
      "source": [
        "## Building the model"
      ]
    },
    {
      "cell_type": "code",
      "metadata": {
        "id": "LrGatsPv5tZ8",
        "colab_type": "code",
        "colab": {}
      },
      "source": [
        "#number of traning epochs\n",
        "EPOCHS = 7"
      ],
      "execution_count": 0,
      "outputs": []
    },
    {
      "cell_type": "code",
      "metadata": {
        "id": "QPeBqE1Aqxh9",
        "colab_type": "code",
        "colab": {}
      },
      "source": [
        "#BERT model\n",
        "model = BertForSequenceClassification.from_pretrained(\n",
        "    \"bert-base-uncased\",\n",
        "    num_labels = 2,\n",
        "    output_attentions = False,\n",
        "    output_hidden_states = False,\n",
        "    )\n",
        "\n",
        "\n",
        "#Optimizer\n",
        "optimizer = AdamW(model.parameters(),\n",
        "                  lr = 2e-5,\n",
        "                  eps = 1e-8\n",
        "                  )\n",
        "\n",
        "#create the learning rate scheduler\n",
        "scheduler = get_linear_schedule_with_warmup(\n",
        "    optimizer,\n",
        "    num_warmup_steps = 0,\n",
        "    num_training_steps = len(train_dataloader) * EPOCHS\n",
        "    )\n"
      ],
      "execution_count": 0,
      "outputs": []
    },
    {
      "cell_type": "markdown",
      "metadata": {
        "colab_type": "text",
        "id": "pW-cs4dQyCIb"
      },
      "source": [
        "## Model Training"
      ]
    },
    {
      "cell_type": "markdown",
      "metadata": {
        "id": "DZfn4Z4dyDTR",
        "colab_type": "text"
      },
      "source": [
        "### Utility Functions"
      ]
    },
    {
      "cell_type": "code",
      "metadata": {
        "id": "1mNe7ECEyFxf",
        "colab_type": "code",
        "colab": {}
      },
      "source": [
        "def flat_accuracy(preds, labels):\n",
        "  pred_flat = np.argmax(preds,axis=1).flatten()\n",
        "  labels_flat = labels.flatten()\n",
        "  return np.sum(pred_flat == labels_flat)/len(labels_flat)\n",
        "\n",
        "\n",
        "#format the time \n",
        "def format_time(elapsed):\n",
        "  elapsed_rounded = int(round((elapsed)))\n",
        "  return str(datetime.timedelta(seconds = elapsed_rounded))"
      ],
      "execution_count": 0,
      "outputs": []
    },
    {
      "cell_type": "markdown",
      "metadata": {
        "id": "n--giASpyGSM",
        "colab_type": "text"
      },
      "source": [
        "### Training loop"
      ]
    },
    {
      "cell_type": "code",
      "metadata": {
        "id": "ykbS5OYrxSdD",
        "colab_type": "code",
        "colab": {
          "base_uri": "https://localhost:8080/",
          "height": 34
        },
        "outputId": "24b3aab8-50bb-40d0-d197-069220e0696a"
      },
      "source": [
        "device = torch.device('cuda') if torch.cuda.is_available() else torch.device('cpu')\n",
        "\n",
        "print(f\"Using {device}\")"
      ],
      "execution_count": 14,
      "outputs": [
        {
          "output_type": "stream",
          "text": [
            "Using cuda\n"
          ],
          "name": "stdout"
        }
      ]
    },
    {
      "cell_type": "code",
      "metadata": {
        "id": "_bM-Fg_ixpSd",
        "colab_type": "code",
        "colab": {}
      },
      "source": [
        "torch.manual_seed(SEED)\n",
        "torch.cuda.manual_seed_all(SEED)"
      ],
      "execution_count": 0,
      "outputs": []
    },
    {
      "cell_type": "code",
      "metadata": {
        "id": "NKvvVzFJyjXA",
        "colab_type": "code",
        "colab": {}
      },
      "source": [
        "def validate_model(nnet, val_dataloader, device):\n",
        "  \"\"\"Evaluate current model on validation set\"\"\"\n",
        "\n",
        "  t0 = time.time()\n",
        "\n",
        "  nnet.eval()\n",
        "\n",
        "  loss, accuracy = 0, 0\n",
        "  \n",
        "  eval_steps = 0\n",
        "  for batch in val_dataloader:\n",
        "    b_input_ids, b_input_mask, b_labels = tuple(t.to(device) for t in batch)\n",
        "  \n",
        "    with torch.no_grad():\n",
        "      #get predictions \n",
        "      outputs = nnet(b_input_ids, \n",
        "                     token_type_ids = None,\n",
        "                     attention_mask = b_input_mask)\n",
        "\n",
        "    #calc loss\n",
        "    logits = outputs[0].detach().cpu().numpy()\n",
        "    labels = b_labels.to('cpu').numpy()\n",
        "\n",
        "    tmp_accuracy = flat_accuracy(logits, labels)\n",
        "    \n",
        "    accuracy += tmp_accuracy\n",
        "\n",
        "    eval_steps += 1\n",
        "\n",
        "  print(f\"----Accuracy: {accuracy/eval_steps}\")\n",
        "  print(f\"----Validation took {format_time(time.time() - t0)}\")\n",
        "\n",
        "  return accuracy/eval_steps"
      ],
      "execution_count": 0,
      "outputs": []
    },
    {
      "cell_type": "code",
      "metadata": {
        "id": "dvl7qcPR1sLO",
        "colab_type": "code",
        "colab": {}
      },
      "source": [
        "def train(nnet, optimizer, train_dataloader, val_dataloader, device, epochs=EPOCHS):\n",
        "\n",
        "  nnet.to(device)\n",
        "  nnet.train()\n",
        "\n",
        "  #store loss values to plot after training\n",
        "  loss_values = []\n",
        "  val_loss = []\n",
        "  val_accuracy = []\n",
        "\n",
        "  print(\"=============== STARTING TRAINING ===============\")\n",
        "  t0 = time.time()\n",
        "\n",
        "  for epoch in range(epochs):\n",
        "\n",
        "    print(f\"\\n\\n======= EPOCH {epoch+1} =======\")\n",
        "    t1 = time.time()\n",
        "    total_loss = 0\n",
        "\n",
        "    for step, batch in enumerate(train_dataloader):\n",
        "\n",
        "      if step % 40 == 0 and not step == 0:\n",
        "        elapsed = format_time(time.time() - t1)\n",
        "        print(f\"    Batch {step} of {len(train_dataloader)}. Elapsed time {elapsed}\")\n",
        "\n",
        "\n",
        "      #move inputs to device\n",
        "      b_input_ids, b_input_mask, b_labels = tuple(t.to(device) for t in batch)\n",
        "\n",
        "      #zero gradients\n",
        "      nnet.zero_grad()\n",
        "\n",
        "      #perform forward pass\n",
        "      outputs = nnet(\n",
        "          b_input_ids,\n",
        "          token_type_ids = None,\n",
        "          attention_mask = b_input_mask,\n",
        "          labels = b_labels\n",
        "          )\n",
        "      \n",
        "      loss = outputs[0]\n",
        "      total_loss += loss.item()\n",
        "\n",
        "      #back propagate the gradients\n",
        "      loss.backward()\n",
        "\n",
        "      #clip gradients to tackle exploding gradients problem\n",
        "      torch.nn.utils.clip_grad_norm_(model.parameters(),1.0)\n",
        "\n",
        "      #update parameters and take a step using the computed gradient\n",
        "      optimizer.step()\n",
        "\n",
        "      #update learning rate\n",
        "      scheduler.step()\n",
        "\n",
        "    avg_train_loss = total_loss/len(train_dataloader)\n",
        "\n",
        "    loss_values.append(avg_train_loss)\n",
        "\n",
        "    print(\"\")\n",
        "    print(f\"   Average training loss: {avg_train_loss:.2f}\")\n",
        "    print(f\"   Training epoch took: {format_time(time.time() - t1)}\")\n",
        "\n",
        "    print(f\"\\n\\n======= Running Validation =======\")\n",
        "    val_accuracy = validate_model(nnet,val_dataloader,device)\n",
        "\n",
        "\n",
        "  print(\"\\n\\n\\n TRAINING COMPLETED!\")\n",
        "  total_time = format_time(time.time() - t0)\n",
        "  print(f\"------ Training took {total_time}\")\n",
        "\n",
        "  return loss_values, val_accuracy\n",
        "\n",
        "    \n",
        "\n"
      ],
      "execution_count": 0,
      "outputs": []
    },
    {
      "cell_type": "code",
      "metadata": {
        "id": "h97g5S7z2MwV",
        "colab_type": "code",
        "colab": {
          "base_uri": "https://localhost:8080/",
          "height": 1000
        },
        "outputId": "5bf0ceee-f9fe-49a7-9f72-058b4b34e982"
      },
      "source": [
        "loss_values, val_accuracy = train(model, optimizer, train_dataloader, val_dataloader, device)"
      ],
      "execution_count": 18,
      "outputs": [
        {
          "output_type": "stream",
          "text": [
            "=============== STARTING TRAINING ===============\n",
            "\n",
            "\n",
            "======= EPOCH 1 =======\n",
            "    Batch 40 of 215. Elapsed time 0:00:19\n",
            "    Batch 80 of 215. Elapsed time 0:00:38\n",
            "    Batch 120 of 215. Elapsed time 0:00:58\n",
            "    Batch 160 of 215. Elapsed time 0:01:17\n",
            "    Batch 200 of 215. Elapsed time 0:01:36\n",
            "\n",
            "   Average training loss: 0.46\n",
            "   Training epoch took: 0:01:43\n",
            "\n",
            "\n",
            "======= Running Validation =======\n",
            "----Accuracy: 0.8389423076923076\n",
            "----Validation took 0:00:03\n",
            "\n",
            "\n",
            "======= EPOCH 2 =======\n",
            "    Batch 40 of 215. Elapsed time 0:02:06\n",
            "    Batch 80 of 215. Elapsed time 0:02:25\n",
            "    Batch 120 of 215. Elapsed time 0:02:44\n",
            "    Batch 160 of 215. Elapsed time 0:03:03\n",
            "    Batch 200 of 215. Elapsed time 0:03:23\n",
            "\n",
            "   Average training loss: 0.32\n",
            "   Training epoch took: 0:01:43\n",
            "\n",
            "\n",
            "======= Running Validation =======\n",
            "----Accuracy: 0.827323717948718\n",
            "----Validation took 0:00:03\n",
            "\n",
            "\n",
            "======= EPOCH 3 =======\n",
            "    Batch 40 of 215. Elapsed time 0:03:52\n",
            "    Batch 80 of 215. Elapsed time 0:04:11\n",
            "    Batch 120 of 215. Elapsed time 0:04:30\n",
            "    Batch 160 of 215. Elapsed time 0:04:50\n",
            "    Batch 200 of 215. Elapsed time 0:05:09\n",
            "\n",
            "   Average training loss: 0.22\n",
            "   Training epoch took: 0:01:43\n",
            "\n",
            "\n",
            "======= Running Validation =======\n",
            "----Accuracy: 0.8221153846153846\n",
            "----Validation took 0:00:03\n",
            "\n",
            "\n",
            "======= EPOCH 4 =======\n",
            "    Batch 40 of 215. Elapsed time 0:05:38\n",
            "    Batch 80 of 215. Elapsed time 0:05:57\n",
            "    Batch 120 of 215. Elapsed time 0:06:16\n",
            "    Batch 160 of 215. Elapsed time 0:06:36\n",
            "    Batch 200 of 215. Elapsed time 0:06:55\n",
            "\n",
            "   Average training loss: 0.13\n",
            "   Training epoch took: 0:01:43\n",
            "\n",
            "\n",
            "======= Running Validation =======\n",
            "----Accuracy: 0.8121995192307692\n",
            "----Validation took 0:00:03\n",
            "\n",
            "\n",
            "======= EPOCH 5 =======\n",
            "    Batch 40 of 215. Elapsed time 0:07:24\n",
            "    Batch 80 of 215. Elapsed time 0:07:43\n",
            "    Batch 120 of 215. Elapsed time 0:08:03\n",
            "    Batch 160 of 215. Elapsed time 0:08:22\n",
            "    Batch 200 of 215. Elapsed time 0:08:41\n",
            "\n",
            "   Average training loss: 0.08\n",
            "   Training epoch took: 0:01:43\n",
            "\n",
            "\n",
            "======= Running Validation =======\n",
            "----Accuracy: 0.8080929487179488\n",
            "----Validation took 0:00:03\n",
            "\n",
            "\n",
            "======= EPOCH 6 =======\n",
            "    Batch 40 of 215. Elapsed time 0:09:10\n",
            "    Batch 80 of 215. Elapsed time 0:09:29\n",
            "    Batch 120 of 215. Elapsed time 0:09:49\n",
            "    Batch 160 of 215. Elapsed time 0:10:08\n",
            "    Batch 200 of 215. Elapsed time 0:10:27\n",
            "\n",
            "   Average training loss: 0.05\n",
            "   Training epoch took: 0:01:43\n",
            "\n",
            "\n",
            "======= Running Validation =======\n",
            "----Accuracy: 0.796073717948718\n",
            "----Validation took 0:00:03\n",
            "\n",
            "\n",
            "======= EPOCH 7 =======\n",
            "    Batch 40 of 215. Elapsed time 0:10:56\n",
            "    Batch 80 of 215. Elapsed time 0:11:15\n",
            "    Batch 120 of 215. Elapsed time 0:11:35\n",
            "    Batch 160 of 215. Elapsed time 0:11:54\n",
            "    Batch 200 of 215. Elapsed time 0:12:13\n",
            "\n",
            "   Average training loss: 0.03\n",
            "   Training epoch took: 0:01:42\n",
            "\n",
            "\n",
            "======= Running Validation =======\n",
            "----Accuracy: 0.807391826923077\n",
            "----Validation took 0:00:03\n",
            "\n",
            "\n",
            "\n",
            " TRAINING COMPLETED!\n",
            "------ Training took 0:12:23\n"
          ],
          "name": "stdout"
        }
      ]
    },
    {
      "cell_type": "code",
      "metadata": {
        "id": "SqN8y_In583i",
        "colab_type": "code",
        "colab": {
          "base_uri": "https://localhost:8080/",
          "height": 279
        },
        "outputId": "a88b1d4a-a517-4a64-a536-148bd7c998fa"
      },
      "source": [
        "#plot loss values\n",
        "plt.plot(range(1,EPOCHS+1),loss_values)\n",
        "plt.ylabel(\"Training Loss\")\n",
        "plt.xlabel(\"Epochs\")\n",
        "plt.xticks([i for i in range(1,EPOCHS+1)])\n",
        "plt.show()"
      ],
      "execution_count": 19,
      "outputs": [
        {
          "output_type": "display_data",
          "data": {
            "image/png": "[encoded data removed]",
            "text/plain": [
              "<Figure size 432x288 with 1 Axes>"
            ]
          },
          "metadata": {
            "tags": []
          }
        }
      ]
    },
    {
      "cell_type": "markdown",
      "metadata": {
        "id": "ztvM7w0jSkt3",
        "colab_type": "text"
      },
      "source": [
        "# Make final predictions"
      ]
    },
    {
      "cell_type": "code",
      "metadata": {
        "id": "5QFPIOYBWuLS",
        "colab_type": "code",
        "colab": {}
      },
      "source": [
        "test_inputs, test_masks = TweetProcessor(\n",
        "    test_df['text'], \n",
        "    labels=[]).process_text()\n",
        "\n",
        "\n",
        "test_data = TensorDataset(test_inputs, test_masks)\n",
        "\n",
        "test_dataloader = DataLoader(test_data, batch_size=BATCH_SIZE)"
      ],
      "execution_count": 0,
      "outputs": []
    },
    {
      "cell_type": "code",
      "metadata": {
        "id": "Ax2fRogTXMak",
        "colab_type": "code",
        "colab": {
          "base_uri": "https://localhost:8080/",
          "height": 153
        },
        "outputId": "a1b4f975-4780-469d-9dc6-3196b0f575e4"
      },
      "source": [
        "predictions = []\n",
        "\n",
        "model.eval()\n",
        "\n",
        "for i, batch in enumerate(test_dataloader):\n",
        "  if i % 40 == 0:\n",
        "    print(f\"\\n Making predictions for batch {i} of {len(test_dataloader)}\")\n",
        "\n",
        "  batch = tuple(t.to(device) for t in batch)\n",
        "  b_input_ids, b_input_mask = batch\n",
        "\n",
        "  with torch.no_grad():\n",
        "    outputs = model(b_input_ids, \n",
        "                    token_type_ids = None,\n",
        "                    attention_mask = b_input_mask)\n",
        "    \n",
        "  logits = outputs[0]\n",
        "  logits = logits.detach().cpu().numpy()\n",
        "\n",
        "  predictions.append(logits)\n",
        "\n",
        "print(\"\\n   DONE   \")"
      ],
      "execution_count": 25,
      "outputs": [
        {
          "output_type": "stream",
          "text": [
            "\n",
            " Making predictions for batch 0 of 102\n",
            "\n",
            " Making predictions for batch 40 of 102\n",
            "\n",
            " Making predictions for batch 80 of 102\n",
            "\n",
            "   DONE   \n"
          ],
          "name": "stdout"
        }
      ]
    },
    {
      "cell_type": "code",
      "metadata": {
        "id": "HWFi1G99Xwin",
        "colab_type": "code",
        "colab": {}
      },
      "source": [
        "#find argmax and flatten batches list\n",
        "final_predictions = [i for j in range(len(predictions)) for i in np.argmax(predictions[j],axis=1)]\n",
        "\n",
        "test_predictions = pd.DataFrame({'id':test_df['id'],'target':final_predictions})\n",
        "test_predictions.to_csv(\"submission2.csv\",index=False)"
      ],
      "execution_count": 0,
      "outputs": []
    },
    {
      "cell_type": "code",
      "metadata": {
        "id": "1qtCk6quX3lD",
        "colab_type": "code",
        "colab": {}
      },
      "source": [
        ""
      ],
      "execution_count": 0,
      "outputs": []
    }
  ]
}