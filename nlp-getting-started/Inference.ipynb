{
 "cells": [
  {
   "cell_type": "markdown",
   "metadata": {},
   "source": [
    "<font size=\"+3\">Inference Notebook</font>\n",
    "\n",
    "Explore simple ML models, different text embeddings, hyper parameter tuning and ensemble models.\n",
    "\n",
    "The BERT model got an accuracy of about 0.83 without any feature engineering. It will be interesting to see if traditional ML models can be tuned to perform as well/better than BERT."
   ]
  },
  {
   "cell_type": "markdown",
   "metadata": {},
   "source": [
    "# Imports"
   ]
  },
  {
   "cell_type": "code",
   "execution_count": 1,
   "metadata": {},
   "outputs": [],
   "source": [
    "import pandas as pd\n",
    "import numpy as np\n",
    "\n",
    "import matplotlib.pyplot as plt\n",
    "import seaborn as sns\n",
    "\n",
    "from sklearn.metrics import classification_report, confusion_matrix\n",
    "from sklearn.metrics import f1_score, log_loss\n",
    "\n",
    "from sklearn.model_selection import train_test_split, GridSearchCV\n",
    "from sklearn.feature_extraction.text import TfidfVectorizer, CountVectorizer\n",
    "from sklearn.pipeline import Pipeline\n",
    "from sklearn.decomposition import TruncatedSVD\n",
    "from sklearn.preprocessing import StandardScaler\n",
    "\n",
    "from sklearn.linear_model import LogisticRegression\n",
    "from sklearn.naive_bayes import MultinomialNB\n",
    "\n",
    "import xgboost as xgb"
   ]
  },
  {
   "cell_type": "markdown",
   "metadata": {},
   "source": [
    "# Load Data"
   ]
  },
  {
   "cell_type": "code",
   "execution_count": 2,
   "metadata": {},
   "outputs": [],
   "source": [
    "train_df = pd.read_csv(\"./data/train.csv\")\n",
    "test_df = pd.read_csv(\"./data/test.csv\")"
   ]
  },
  {
   "cell_type": "code",
   "execution_count": 3,
   "metadata": {},
   "outputs": [],
   "source": [
    "features = [col for col in train_df.columns if col not in ['target','id']]"
   ]
  },
  {
   "cell_type": "code",
   "execution_count": 4,
   "metadata": {},
   "outputs": [],
   "source": [
    "xtrain, xvalid, ytrain, yvalid = train_test_split(train_df[features], train_df['target'], test_size=0.1,\n",
    "                                                 shuffle=True, random_state = 42)\n",
    "\n",
    "xtest = test_df"
   ]
  },
  {
   "cell_type": "code",
   "execution_count": 5,
   "metadata": {},
   "outputs": [
    {
     "data": {
      "text/html": [
       "<div>\n",
       "<style scoped>\n",
       "    .dataframe tbody tr th:only-of-type {\n",
       "        vertical-align: middle;\n",
       "    }\n",
       "\n",
       "    .dataframe tbody tr th {\n",
       "        vertical-align: top;\n",
       "    }\n",
       "\n",
       "    .dataframe thead th {\n",
       "        text-align: right;\n",
       "    }\n",
       "</style>\n",
       "<table border=\"1\" class=\"dataframe\">\n",
       "  <thead>\n",
       "    <tr style=\"text-align: right;\">\n",
       "      <th></th>\n",
       "      <th>keyword</th>\n",
       "      <th>location</th>\n",
       "      <th>text</th>\n",
       "    </tr>\n",
       "  </thead>\n",
       "  <tbody>\n",
       "    <tr>\n",
       "      <th>7389</th>\n",
       "      <td>windstorm</td>\n",
       "      <td>Argus Industries \\m/666\\m/</td>\n",
       "      <td>Damn...was wondering where my drone ended up a...</td>\n",
       "    </tr>\n",
       "    <tr>\n",
       "      <th>6804</th>\n",
       "      <td>tragedy</td>\n",
       "      <td>MÌ©xico</td>\n",
       "      <td>I'm gunning down romance\\nIt never did a thing...</td>\n",
       "    </tr>\n",
       "    <tr>\n",
       "      <th>6478</th>\n",
       "      <td>sunk</td>\n",
       "      <td>{GoT | Modern AU | Lizz}</td>\n",
       "      <td>@UntamedDirewolf 'I... Wow. Alright.' Sansa sh...</td>\n",
       "    </tr>\n",
       "    <tr>\n",
       "      <th>4641</th>\n",
       "      <td>inundated</td>\n",
       "      <td>The windy plains of Denver</td>\n",
       "      <td>@VZWSupport do texts use data? She was inundat...</td>\n",
       "    </tr>\n",
       "    <tr>\n",
       "      <th>7247</th>\n",
       "      <td>weapons</td>\n",
       "      <td>NaN</td>\n",
       "      <td>@kirstiealley @_AnimalAdvocate Or pay it for a...</td>\n",
       "    </tr>\n",
       "    <tr>\n",
       "      <th>1018</th>\n",
       "      <td>body%20bags</td>\n",
       "      <td>Austin, Texas</td>\n",
       "      <td>@FoxNews @JenGriffinFNC When you call to repor...</td>\n",
       "    </tr>\n",
       "    <tr>\n",
       "      <th>3268</th>\n",
       "      <td>engulfed</td>\n",
       "      <td>NaN</td>\n",
       "      <td>Men escape car engulfed in flames in Parley's ...</td>\n",
       "    </tr>\n",
       "    <tr>\n",
       "      <th>6501</th>\n",
       "      <td>survive</td>\n",
       "      <td>NaN</td>\n",
       "      <td>@lucypalladino and I don't have any classes to...</td>\n",
       "    </tr>\n",
       "    <tr>\n",
       "      <th>282</th>\n",
       "      <td>apocalypse</td>\n",
       "      <td>Oakland</td>\n",
       "      <td>Julie + R is the apocalypse version of Romeo +...</td>\n",
       "    </tr>\n",
       "    <tr>\n",
       "      <th>3333</th>\n",
       "      <td>evacuated</td>\n",
       "      <td>Denver, Colorado</td>\n",
       "      <td>13000 evacuated as California firefighters fig...</td>\n",
       "    </tr>\n",
       "  </tbody>\n",
       "</table>\n",
       "</div>"
      ],
      "text/plain": [
       "          keyword                    location  \\\n",
       "7389    windstorm  Argus Industries \\m/666\\m/   \n",
       "6804      tragedy                     MÌ©xico   \n",
       "6478         sunk    {GoT | Modern AU | Lizz}   \n",
       "4641    inundated  The windy plains of Denver   \n",
       "7247      weapons                         NaN   \n",
       "1018  body%20bags               Austin, Texas   \n",
       "3268     engulfed                         NaN   \n",
       "6501      survive                         NaN   \n",
       "282    apocalypse                     Oakland   \n",
       "3333    evacuated            Denver, Colorado   \n",
       "\n",
       "                                                   text  \n",
       "7389  Damn...was wondering where my drone ended up a...  \n",
       "6804  I'm gunning down romance\\nIt never did a thing...  \n",
       "6478  @UntamedDirewolf 'I... Wow. Alright.' Sansa sh...  \n",
       "4641  @VZWSupport do texts use data? She was inundat...  \n",
       "7247  @kirstiealley @_AnimalAdvocate Or pay it for a...  \n",
       "1018  @FoxNews @JenGriffinFNC When you call to repor...  \n",
       "3268  Men escape car engulfed in flames in Parley's ...  \n",
       "6501  @lucypalladino and I don't have any classes to...  \n",
       "282   Julie + R is the apocalypse version of Romeo +...  \n",
       "3333  13000 evacuated as California firefighters fig...  "
      ]
     },
     "execution_count": 5,
     "metadata": {},
     "output_type": "execute_result"
    }
   ],
   "source": [
    "xtrain.sample(10)"
   ]
  },
  {
   "cell_type": "markdown",
   "metadata": {},
   "source": [
    "# Metric\n",
    "\n",
    "As per the competition rules. We will optimise for the F1_Score and also use the log_loss to evaluate each algorithms performance."
   ]
  },
  {
   "cell_type": "markdown",
   "metadata": {},
   "source": [
    "# Text Preprocessing\n",
    "\n",
    "As we will evalute different levels of text preprocessing, the processing steps will be kept in a seperate file so they can easily be added to as we evaluate each model. This will enable us to add different level of preprocessing to the pipelines.\n",
    "\n",
    "See `TweetProcessor` in `text_preprocessing.py` for text cleaning steps."
   ]
  },
  {
   "cell_type": "code",
   "execution_count": 6,
   "metadata": {},
   "outputs": [],
   "source": [
    "%load_ext autoreload\n",
    "%autoreload 2\n",
    "\n",
    "from text_preprocessing import TweetProcessor"
   ]
  },
  {
   "cell_type": "code",
   "execution_count": 7,
   "metadata": {},
   "outputs": [],
   "source": [
    "tp = TweetProcessor()\n",
    "xtrain['text'] = tp.process_text(xtrain['text'])\n",
    "xvalid['text'] = tp.process_text(xvalid['text'])\n",
    "xtest['text'] = tp.process_text(xtest['text'])"
   ]
  },
  {
   "cell_type": "markdown",
   "metadata": {},
   "source": [
    "# Simple ML Models\n",
    "\n",
    "To begin with we will just evaluate the `text` column and create features from that."
   ]
  },
  {
   "cell_type": "markdown",
   "metadata": {},
   "source": [
    "## Bag of words\n",
    "\n",
    "There are a number of different methods for generating numerical features from text. We can try the following:\n",
    "- TF-IDF\n",
    "- CountVectorizer\n",
    "\n",
    "We will create features from using each method and evaluate which works better on this dataset."
   ]
  },
  {
   "cell_type": "code",
   "execution_count": 8,
   "metadata": {},
   "outputs": [],
   "source": [
    "# TF-IDF embeddings\n",
    "tfv = TfidfVectorizer(min_df=3,  max_features=None, \n",
    "            strip_accents='unicode', analyzer='word',token_pattern=r'\\w{1,}',\n",
    "            ngram_range=(1, 3), use_idf=1,smooth_idf=1,sublinear_tf=1,\n",
    "            stop_words = 'english')\n",
    "\n",
    "# Count Vectorizer\n",
    "ctv = CountVectorizer(stop_words = 'english')"
   ]
  },
  {
   "cell_type": "markdown",
   "metadata": {},
   "source": [
    "## Logistic Regression\n",
    "\n",
    "The first model to try is a simple logistic regression. We will use sklearn pipelines and gridsearch to find the best possible logistic regression model."
   ]
  },
  {
   "cell_type": "code",
   "execution_count": 9,
   "metadata": {},
   "outputs": [],
   "source": [
    "#create dictionary to store results of each model\n",
    "model_results = {}"
   ]
  },
  {
   "cell_type": "code",
   "execution_count": 10,
   "metadata": {},
   "outputs": [],
   "source": [
    "#standard logistic regresssion\n",
    "lr_pipe_tfv = Pipeline([('tfv',tfv),\n",
    "                        ('lr',LogisticRegression())])\n",
    "\n",
    "lr_pipe_ctv = Pipeline([('ctv',ctv),\n",
    "                        ('lr',LogisticRegression())])\n",
    "\n",
    "#gridsearch parameters\n",
    "lr_param_grid = {'lr__C': [0.1, 1.0, 10],\n",
    "                'lr__penalty': ['l1', 'l2']}"
   ]
  },
  {
   "cell_type": "code",
   "execution_count": 11,
   "metadata": {},
   "outputs": [],
   "source": [
    "#pipelines with svd and scaling\n",
    "lr_pipe_tfv_svd = Pipeline([('tfv',tfv),\n",
    "                        ('svd',TruncatedSVD()),\n",
    "                        ('scl',StandardScaler()),\n",
    "                        ('lr',LogisticRegression())])\n",
    "\n",
    "lr_pipe_ctv_svd = Pipeline([('ctv',ctv),\n",
    "                        ('svd',TruncatedSVD()),\n",
    "                        ('scl',StandardScaler()),\n",
    "                        ('lr',LogisticRegression())])\n",
    "\n",
    "lr_svd_param_grid = {'svd__n_components' : [120, 180],\n",
    "                 'lr__C': [0.1, 1.0, 10], \n",
    "                 'lr__penalty': ['l1', 'l2']}"
   ]
  },
  {
   "cell_type": "code",
   "execution_count": 12,
   "metadata": {},
   "outputs": [],
   "source": [
    "lr_gs_tfv = GridSearchCV(lr_pipe_tfv, param_grid=lr_param_grid, scoring='f1',\n",
    "                     verbose=5, n_jobs=-1, refit=True, cv=4)\n",
    "\n",
    "lr_gs_ctv = GridSearchCV(lr_pipe_ctv, param_grid=lr_param_grid, scoring='f1',\n",
    "                     verbose=5, n_jobs=-1, refit=True, cv=4)\n",
    "\n",
    "lr_svd_gs_tfv = GridSearchCV(lr_pipe_tfv_svd, param_grid=lr_svd_param_grid, scoring='f1',\n",
    "                     verbose=5, n_jobs=-1, refit=True, cv=4)\n",
    "\n",
    "lr_svd_gs_ctv = GridSearchCV(lr_pipe_ctv_svd, param_grid=lr_svd_param_grid, scoring='f1',\n",
    "                     verbose=5, n_jobs=-1, refit=True, cv=4)\n"
   ]
  },
  {
   "cell_type": "code",
   "execution_count": 13,
   "metadata": {},
   "outputs": [
    {
     "name": "stdout",
     "output_type": "stream",
     "text": [
      "\n",
      "Training model: lr-tfv\n",
      "Fitting 4 folds for each of 6 candidates, totalling 24 fits\n"
     ]
    },
    {
     "name": "stderr",
     "output_type": "stream",
     "text": [
      "[Parallel(n_jobs=-1)]: Using backend LokyBackend with 2 concurrent workers.\n",
      "[Parallel(n_jobs=-1)]: Done  14 tasks      | elapsed:    4.9s\n",
      "[Parallel(n_jobs=-1)]: Done  24 out of  24 | elapsed:    7.8s finished\n"
     ]
    },
    {
     "name": "stdout",
     "output_type": "stream",
     "text": [
      "\n",
      "Training model: lr-ctv\n",
      "Fitting 4 folds for each of 6 candidates, totalling 24 fits\n"
     ]
    },
    {
     "name": "stderr",
     "output_type": "stream",
     "text": [
      "[Parallel(n_jobs=-1)]: Using backend LokyBackend with 2 concurrent workers.\n",
      "[Parallel(n_jobs=-1)]: Done  24 out of  24 | elapsed:    3.2s finished\n"
     ]
    },
    {
     "name": "stdout",
     "output_type": "stream",
     "text": [
      "\n",
      "Training model: lr-svd-tfv\n",
      "Fitting 4 folds for each of 12 candidates, totalling 48 fits\n"
     ]
    },
    {
     "name": "stderr",
     "output_type": "stream",
     "text": [
      "[Parallel(n_jobs=-1)]: Using backend LokyBackend with 2 concurrent workers.\n",
      "[Parallel(n_jobs=-1)]: Done  14 tasks      | elapsed:    8.8s\n",
      "[Parallel(n_jobs=-1)]: Done  48 out of  48 | elapsed:   29.4s finished\n"
     ]
    },
    {
     "name": "stdout",
     "output_type": "stream",
     "text": [
      "\n",
      "Training model: lr-svd-ctv\n",
      "Fitting 4 folds for each of 12 candidates, totalling 48 fits\n"
     ]
    },
    {
     "name": "stderr",
     "output_type": "stream",
     "text": [
      "[Parallel(n_jobs=-1)]: Using backend LokyBackend with 2 concurrent workers.\n",
      "[Parallel(n_jobs=-1)]: Done  14 tasks      | elapsed:   12.4s\n",
      "[Parallel(n_jobs=-1)]: Done  48 out of  48 | elapsed:   39.1s finished\n"
     ]
    },
    {
     "name": "stdout",
     "output_type": "stream",
     "text": [
      "\n",
      "Hyper-parameter tuning done\n"
     ]
    }
   ],
   "source": [
    "models = [lr_gs_tfv, lr_gs_ctv, lr_svd_gs_tfv, lr_svd_gs_ctv]\n",
    "names = ['lr-tfv','lr-ctv','lr-svd-tfv','lr-svd-ctv']\n",
    "\n",
    "for model, name in zip(models,names):\n",
    "    print(f\"\\nTraining model: {name}\")\n",
    "    model.fit(xtrain['text'],ytrain)\n",
    "    \n",
    "print(\"\\nHyper-parameter tuning done\")"
   ]
  },
  {
   "cell_type": "code",
   "execution_count": 14,
   "metadata": {},
   "outputs": [
    {
     "name": "stdout",
     "output_type": "stream",
     "text": [
      "lr-tfv: \n",
      "\tBest GridSearch score:  0.7433\n",
      "\tScore on validation set:  0.7227\n",
      "lr-ctv: \n",
      "\tBest GridSearch score:  0.7450\n",
      "\tScore on validation set:  0.7212\n",
      "lr-svd-tfv: \n",
      "\tBest GridSearch score:  0.7261\n",
      "\tScore on validation set:  0.6974\n",
      "lr-svd-ctv: \n",
      "\tBest GridSearch score:  0.7025\n",
      "\tScore on validation set:  0.6902\n"
     ]
    }
   ],
   "source": [
    "def evaluate_gridsearch_models(models,names,xvalid):\n",
    "    val_scores = {}\n",
    "    for model, name in zip(models, names):\n",
    "        print(f\"{name}: \\n\\tBest GridSearch score: {model.best_score_: 0.4f}\")\n",
    "        predictions = model.predict(xvalid)\n",
    "        val_score = f1_score(yvalid,predictions)\n",
    "        print(f\"\\tScore on validation set: {val_score: 0.4f}\")\n",
    "        val_scores[name] = val_score\n",
    "            \n",
    "    return val_scores\n",
    "    \n",
    "\n",
    "lr_val_scores = evaluate_gridsearch_models(models,names,xvalid['text'])"
   ]
  },
  {
   "cell_type": "markdown",
   "metadata": {},
   "source": [
    "Looks like the model with best performance on the unseen validation set is the best Logistic Regression model with CountVectorizer features."
   ]
  },
  {
   "cell_type": "code",
   "execution_count": 15,
   "metadata": {},
   "outputs": [],
   "source": [
    "#record best model into dictionary for comparison with other models later\n",
    "model_results['lr-ctv'] = {'model': lr_gs_ctv, 'score': lr_val_scores['lr-ctv']}"
   ]
  },
  {
   "cell_type": "markdown",
   "metadata": {},
   "source": [
    "**Classification report for best logistic regression model**"
   ]
  },
  {
   "cell_type": "code",
   "execution_count": 16,
   "metadata": {},
   "outputs": [
    {
     "name": "stdout",
     "output_type": "stream",
     "text": [
      "Log loss: 0.499 \n",
      "F1 score: 0.721 \n",
      "              precision    recall  f1-score   support\n",
      "\n",
      "           0       0.77      0.85      0.81       426\n",
      "           1       0.78      0.67      0.72       336\n",
      "\n",
      "    accuracy                           0.77       762\n",
      "   macro avg       0.77      0.76      0.76       762\n",
      "weighted avg       0.77      0.77      0.77       762\n",
      "\n"
     ]
    },
    {
     "data": {
      "image/png": "[encoded data removed]",
      "text/plain": [
       "<Figure size 432x288 with 1 Axes>"
      ]
     },
     "metadata": {
      "needs_background": "light"
     },
     "output_type": "display_data"
    }
   ],
   "source": [
    "def create_classification_report(model):\n",
    "    \"\"\"Print classification report and confusion matrix\"\"\"\n",
    "    predictions_prob = model.predict_proba(xvalid['text'])\n",
    "    predictions_classes = model.predict(xvalid['text'])\n",
    "\n",
    "    print (\"Log loss: %0.3f \" % log_loss(yvalid, predictions_prob))\n",
    "    print(\"F1 score: %0.3f \" % f1_score(yvalid, predictions_classes))\n",
    "    print(classification_report(yvalid, predictions_classes))\n",
    "\n",
    "    sns.heatmap(confusion_matrix(yvalid,predictions_classes),annot=True,fmt='.0f',cmap='Blues', cbar=False)\n",
    "    plt.title(\"Confusion Matrix\")\n",
    "    plt.show()\n",
    "    \n",
    "create_classification_report(lr_gs_ctv)"
   ]
  },
  {
   "cell_type": "markdown",
   "metadata": {},
   "source": [
    "## Naive Bayes"
   ]
  },
  {
   "cell_type": "code",
   "execution_count": 17,
   "metadata": {},
   "outputs": [],
   "source": [
    "nb = MultinomialNB()"
   ]
  },
  {
   "cell_type": "code",
   "execution_count": 18,
   "metadata": {},
   "outputs": [],
   "source": [
    "nb_pipeline_tfv = Pipeline([('tfv',tfv),\n",
    "                      ('nb',nb)])\n",
    "\n",
    "nb_pipeline_ctv = Pipeline([('ctv',ctv),\n",
    "                      ('nb',nb)])"
   ]
  },
  {
   "cell_type": "code",
   "execution_count": 19,
   "metadata": {},
   "outputs": [],
   "source": [
    "nb_param_grid = {'nb__alpha': [0.001, 0.01, 0.1, 1, 10, 100]}\n"
   ]
  },
  {
   "cell_type": "code",
   "execution_count": 20,
   "metadata": {},
   "outputs": [],
   "source": [
    "nb_gs_tfv = GridSearchCV(nb_pipeline_tfv, param_grid=nb_param_grid, scoring='f1',\n",
    "                     verbose=5, n_jobs=-1, refit=True, cv=4)\n",
    "\n",
    "nb_gs_ctv = GridSearchCV(nb_pipeline_ctv, param_grid=nb_param_grid, scoring='f1',\n",
    "                     verbose=5, n_jobs=-1, refit=True, cv=4)"
   ]
  },
  {
   "cell_type": "code",
   "execution_count": 21,
   "metadata": {},
   "outputs": [
    {
     "name": "stdout",
     "output_type": "stream",
     "text": [
      "\n",
      "Training model: nb-tfv\n",
      "Fitting 4 folds for each of 6 candidates, totalling 24 fits\n"
     ]
    },
    {
     "name": "stderr",
     "output_type": "stream",
     "text": [
      "[Parallel(n_jobs=-1)]: Using backend LokyBackend with 2 concurrent workers.\n",
      "[Parallel(n_jobs=-1)]: Done  14 tasks      | elapsed:    3.8s\n",
      "[Parallel(n_jobs=-1)]: Done  24 out of  24 | elapsed:    6.5s finished\n"
     ]
    },
    {
     "name": "stdout",
     "output_type": "stream",
     "text": [
      "\n",
      "Training model: nb-ctv\n",
      "Fitting 4 folds for each of 6 candidates, totalling 24 fits\n"
     ]
    },
    {
     "name": "stderr",
     "output_type": "stream",
     "text": [
      "[Parallel(n_jobs=-1)]: Using backend LokyBackend with 2 concurrent workers.\n",
      "[Parallel(n_jobs=-1)]: Done  14 tasks      | elapsed:    1.5s\n"
     ]
    },
    {
     "name": "stdout",
     "output_type": "stream",
     "text": [
      "Hyper-parameter tuning done\n"
     ]
    },
    {
     "name": "stderr",
     "output_type": "stream",
     "text": [
      "[Parallel(n_jobs=-1)]: Done  24 out of  24 | elapsed:    2.5s finished\n"
     ]
    }
   ],
   "source": [
    "models = [nb_gs_tfv, nb_gs_ctv]\n",
    "names = ['nb-tfv','nb-ctv']\n",
    "\n",
    "for model, name in zip(models,names):\n",
    "    print(f\"\\nTraining model: {name}\")\n",
    "    model.fit(xtrain['text'],ytrain)\n",
    "\n",
    "print(\"Hyper-parameter tuning done\")"
   ]
  },
  {
   "cell_type": "code",
   "execution_count": 22,
   "metadata": {},
   "outputs": [
    {
     "name": "stdout",
     "output_type": "stream",
     "text": [
      "nb-tfv: \n",
      "\tBest GridSearch score:  0.7322\n",
      "\tScore on validation set:  0.7092\n",
      "nb-ctv: \n",
      "\tBest GridSearch score:  0.7512\n",
      "\tScore on validation set:  0.7339\n"
     ]
    }
   ],
   "source": [
    "nb_val_scores = evaluate_gridsearch_models(models,names,xvalid['text'])"
   ]
  },
  {
   "cell_type": "code",
   "execution_count": 23,
   "metadata": {},
   "outputs": [
    {
     "name": "stdout",
     "output_type": "stream",
     "text": [
      "Log loss: 0.763 \n",
      "F1 score: 0.734 \n",
      "              precision    recall  f1-score   support\n",
      "\n",
      "           0       0.78      0.85      0.81       426\n",
      "           1       0.78      0.69      0.73       336\n",
      "\n",
      "    accuracy                           0.78       762\n",
      "   macro avg       0.78      0.77      0.77       762\n",
      "weighted avg       0.78      0.78      0.78       762\n",
      "\n"
     ]
    },
    {
     "data": {
      "image/png": "[encoded data removed]",
      "text/plain": [
       "<Figure size 432x288 with 1 Axes>"
      ]
     },
     "metadata": {
      "needs_background": "light"
     },
     "output_type": "display_data"
    }
   ],
   "source": [
    "create_classification_report(nb_gs_ctv)"
   ]
  },
  {
   "cell_type": "code",
   "execution_count": 24,
   "metadata": {},
   "outputs": [],
   "source": [
    "#record best model into dictionary for comparison with other models later\n",
    "model_results['nb-ctv'] = {'model': nb_gs_ctv, 'score': nb_val_scores['nb-ctv']}"
   ]
  },
  {
   "cell_type": "markdown",
   "metadata": {},
   "source": [
    "# Glove Embeddings"
   ]
  },
  {
   "cell_type": "markdown",
   "metadata": {},
   "source": [
    "Glove vectors is another method for generating features from text.\n",
    "\n",
    "Note that the text file containing the embeddings can be downloaded from `http://www-nlp.stanford.edu/data/glove.840B.300d.zip` - it is not included in this git repository due to its large size."
   ]
  },
  {
   "cell_type": "code",
   "execution_count": null,
   "metadata": {},
   "outputs": [
    {
     "name": "stderr",
     "output_type": "stream",
     "text": [
      "1110707it [02:05, 8932.61it/s]"
     ]
    }
   ],
   "source": [
    "from tqdm import tqdm\n",
    "\n",
    "EMBEDDINGS_LOCATION = '../external/glove.840B.300d/glove.840B.300d/glove.840B.300d.txt'\n",
    "\n",
    "\n",
    "# load the GloVe vectors in a dictionary:\n",
    "embeddings_index = {}    \n",
    "f = open(EMBEDDINGS_LOCATION, \"r\", encoding=\"utf8\")\n",
    "for line in tqdm(f):\n",
    "    values = line.split()\n",
    "    word = ''.join(values[:-300])\n",
    "    coefs = np.asarray(values[-300:], dtype='float32')\n",
    "    embeddings_index[word] = coefs\n",
    "f.close()"
   ]
  },
  {
   "cell_type": "markdown",
   "metadata": {},
   "source": [
    "## XGBoost\n",
    "\n",
    "Finally, we will try an XGBoost model"
   ]
  },
  {
   "cell_type": "code",
   "execution_count": null,
   "metadata": {},
   "outputs": [],
   "source": [
    "xgb_clf = xgb.XGBClassifier(max_df=0.95)"
   ]
  },
  {
   "cell_type": "code",
   "execution_count": null,
   "metadata": {},
   "outputs": [],
   "source": [
    "xgb_pipe_tfv = Pipeline([('tfv',tfv),\n",
    "                         ('xgb',xgb_clf)\n",
    "    \n",
    "])\n",
    "\n",
    "\n",
    "xgb_pipe_ctv = Pipeline([('ctv',ctv),\n",
    "                         ('xgb',xgb_clf)\n",
    "    \n",
    "])"
   ]
  },
  {
   "cell_type": "code",
   "execution_count": null,
   "metadata": {},
   "outputs": [],
   "source": []
  },
  {
   "cell_type": "code",
   "execution_count": null,
   "metadata": {},
   "outputs": [],
   "source": [
    "xgb_param_grid = {\"xgb__n_estimators\": np.arange(400, 10000, 1000), 'xgb__max_depth': range(1, 20,10)}"
   ]
  },
  {
   "cell_type": "code",
   "execution_count": null,
   "metadata": {},
   "outputs": [],
   "source": [
    "xgb_gs_tfv = GridSearchCV(xgb_pipe_tfv, param_grid=xgb_param_grid, scoring='f1',\n",
    "                     verbose=10, n_jobs=-1, refit=True, cv=4)\n",
    "\n",
    "xgb_gs_ctv = GridSearchCV(xgb_pipe_ctv, param_grid=xgb_param_grid, scoring='f1',\n",
    "                     verbose=10, n_jobs=-1, refit=True, cv=4)"
   ]
  },
  {
   "cell_type": "code",
   "execution_count": null,
   "metadata": {},
   "outputs": [],
   "source": [
    "xgb_gs_tfv.fit(xtrain['text'],ytrain)\n",
    "xgb_gs_ctv.fit(xtrain['text'],ytrain)\n",
    "\n",
    "print(\"Hyperparameter tuning complete\")"
   ]
  },
  {
   "cell_type": "code",
   "execution_count": null,
   "metadata": {},
   "outputs": [],
   "source": [
    "create_classification_report(xgb_gs_tfv)"
   ]
  },
  {
   "cell_type": "code",
   "execution_count": null,
   "metadata": {},
   "outputs": [],
   "source": []
  },
  {
   "cell_type": "markdown",
   "metadata": {},
   "source": [
    "# Make Submission"
   ]
  },
  {
   "cell_type": "code",
   "execution_count": 29,
   "metadata": {},
   "outputs": [],
   "source": [
    "def create_submission_csv(model,model_name,processed_test_data):\n",
    "    \"\"\"Make preidctions on test set and save to dataframe\n",
    "    \n",
    "    Args:\n",
    "        model: grid search model\n",
    "        model_name (str): name of model to include in the file name of saved model\n",
    "        processed_test_data(df): preprocessed test data\n",
    "\n",
    "    \"\"\"\n",
    "    preds = model.predict(processed_test_data)\n",
    "    final_predictions_df = pd.DataFrame({'id':test_df['id'],'target':preds})\n",
    "    final_predictions_df.to_csv(f\"./submissions/{model_name}.csv\",index=False)"
   ]
  },
  {
   "cell_type": "code",
   "execution_count": 30,
   "metadata": {},
   "outputs": [],
   "source": [
    "create_submission_csv(clf,'stacking',xtest['text'])"
   ]
  },
  {
   "cell_type": "code",
   "execution_count": null,
   "metadata": {},
   "outputs": [],
   "source": []
  },
  {
   "cell_type": "markdown",
   "metadata": {},
   "source": [
    "# Resources\n",
    "\n",
    "Many ideas for this notebook can from this [notebook](https://www.kaggle.com/abhishek/approaching-almost-any-nlp-problem-on-kaggle) from Kaggle Grandmaster Abhishek Thakur. I would recommend checking out more of his [content](https://www.youtube.com/user/abhisheksvnit), he has great tutorials particularly on using BERT with PyTorch."
   ]
  },
  {
   "cell_type": "code",
   "execution_count": null,
   "metadata": {},
   "outputs": [],
   "source": []
  }
 ],
 "metadata": {
  "kernelspec": {
   "display_name": "Python 3",
   "language": "python",
   "name": "python3"
  },
  "language_info": {
   "codemirror_mode": {
    "name": "ipython",
    "version": 3
   },
   "file_extension": ".py",
   "mimetype": "text/x-python",
   "name": "python",
   "nbconvert_exporter": "python",
   "pygments_lexer": "ipython3",
   "version": "3.7.6"
  }
 },
 "nbformat": 4,
 "nbformat_minor": 4
}
